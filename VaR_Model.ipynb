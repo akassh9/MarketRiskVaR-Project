{
 "cells": [
  {
   "cell_type": "code",
   "execution_count": 1,
   "id": "cc5529be-e029-43fc-b4fa-49fe230d1ceb",
   "metadata": {},
   "outputs": [
    {
     "data": {
      "text/html": [
       "<div>\n",
       "<style scoped>\n",
       "    .dataframe tbody tr th:only-of-type {\n",
       "        vertical-align: middle;\n",
       "    }\n",
       "\n",
       "    .dataframe tbody tr th {\n",
       "        vertical-align: top;\n",
       "    }\n",
       "\n",
       "    .dataframe thead tr th {\n",
       "        text-align: left;\n",
       "    }\n",
       "\n",
       "    .dataframe thead tr:last-of-type th {\n",
       "        text-align: right;\n",
       "    }\n",
       "</style>\n",
       "<table border=\"1\" class=\"dataframe\">\n",
       "  <thead>\n",
       "    <tr>\n",
       "      <th>Price</th>\n",
       "      <th>Close</th>\n",
       "      <th>High</th>\n",
       "      <th>Low</th>\n",
       "      <th>Open</th>\n",
       "      <th>Volume</th>\n",
       "      <th>Log Returns</th>\n",
       "    </tr>\n",
       "    <tr>\n",
       "      <th>Ticker</th>\n",
       "      <th>^GSPC</th>\n",
       "      <th>^GSPC</th>\n",
       "      <th>^GSPC</th>\n",
       "      <th>^GSPC</th>\n",
       "      <th>^GSPC</th>\n",
       "      <th>^GSPC</th>\n",
       "    </tr>\n",
       "    <tr>\n",
       "      <th>Date</th>\n",
       "      <th></th>\n",
       "      <th></th>\n",
       "      <th></th>\n",
       "      <th></th>\n",
       "      <th></th>\n",
       "      <th></th>\n",
       "    </tr>\n",
       "  </thead>\n",
       "  <tbody>\n",
       "    <tr>\n",
       "      <th>2015-01-05</th>\n",
       "      <td>2020.579956</td>\n",
       "      <td>2054.439941</td>\n",
       "      <td>2017.339966</td>\n",
       "      <td>2054.439941</td>\n",
       "      <td>3799120000</td>\n",
       "      <td>-0.018447</td>\n",
       "    </tr>\n",
       "    <tr>\n",
       "      <th>2015-01-06</th>\n",
       "      <td>2002.609985</td>\n",
       "      <td>2030.250000</td>\n",
       "      <td>1992.439941</td>\n",
       "      <td>2022.150024</td>\n",
       "      <td>4460110000</td>\n",
       "      <td>-0.008933</td>\n",
       "    </tr>\n",
       "    <tr>\n",
       "      <th>2015-01-07</th>\n",
       "      <td>2025.900024</td>\n",
       "      <td>2029.609985</td>\n",
       "      <td>2005.550049</td>\n",
       "      <td>2005.550049</td>\n",
       "      <td>3805480000</td>\n",
       "      <td>0.011563</td>\n",
       "    </tr>\n",
       "    <tr>\n",
       "      <th>2015-01-08</th>\n",
       "      <td>2062.139893</td>\n",
       "      <td>2064.080078</td>\n",
       "      <td>2030.609985</td>\n",
       "      <td>2030.609985</td>\n",
       "      <td>3934010000</td>\n",
       "      <td>0.017730</td>\n",
       "    </tr>\n",
       "    <tr>\n",
       "      <th>2015-01-09</th>\n",
       "      <td>2044.810059</td>\n",
       "      <td>2064.429932</td>\n",
       "      <td>2038.329956</td>\n",
       "      <td>2063.449951</td>\n",
       "      <td>3364140000</td>\n",
       "      <td>-0.008439</td>\n",
       "    </tr>\n",
       "  </tbody>\n",
       "</table>\n",
       "</div>"
      ],
      "text/plain": [
       "Price             Close         High          Low         Open      Volume  \\\n",
       "Ticker            ^GSPC        ^GSPC        ^GSPC        ^GSPC       ^GSPC   \n",
       "Date                                                                         \n",
       "2015-01-05  2020.579956  2054.439941  2017.339966  2054.439941  3799120000   \n",
       "2015-01-06  2002.609985  2030.250000  1992.439941  2022.150024  4460110000   \n",
       "2015-01-07  2025.900024  2029.609985  2005.550049  2005.550049  3805480000   \n",
       "2015-01-08  2062.139893  2064.080078  2030.609985  2030.609985  3934010000   \n",
       "2015-01-09  2044.810059  2064.429932  2038.329956  2063.449951  3364140000   \n",
       "\n",
       "Price      Log Returns  \n",
       "Ticker           ^GSPC  \n",
       "Date                    \n",
       "2015-01-05   -0.018447  \n",
       "2015-01-06   -0.008933  \n",
       "2015-01-07    0.011563  \n",
       "2015-01-08    0.017730  \n",
       "2015-01-09   -0.008439  "
      ]
     },
     "execution_count": 1,
     "metadata": {},
     "output_type": "execute_result"
    }
   ],
   "source": [
    "import pandas as pd\n",
    "import numpy as np\n",
    "import matplotlib.pyplot as plt\n",
    "from scipy.stats import norm\n",
    "\n",
    "# load data\n",
    "sp500 = pd.read_csv(\"sp500_data_cleaned.csv\", header=[0,1], index_col=0)\n",
    "\n",
    "# confirm\n",
    "sp500.head()"
   ]
  },
  {
   "cell_type": "code",
   "execution_count": 2,
   "id": "a91279f7-b639-4872-a50b-f5b7b5ec2bf3",
   "metadata": {},
   "outputs": [
    {
     "name": "stdout",
     "output_type": "stream",
     "text": [
      "count    2515.000000\n",
      "mean        0.000417\n",
      "std         0.011270\n",
      "min        -0.127652\n",
      "25%        -0.003783\n",
      "50%         0.000636\n",
      "75%         0.005739\n",
      "max         0.089683\n",
      "Name: (Log Returns, ^GSPC), dtype: float64\n"
     ]
    }
   ],
   "source": [
    "# seperate the returns\n",
    "returns = sp500[('Log Returns', '^GSPC')]\n",
    "\n",
    "# summary\n",
    "print(returns.describe())"
   ]
  },
  {
   "cell_type": "markdown",
   "id": "84f61aea-3251-4a10-81c3-01998deb7521",
   "metadata": {},
   "source": [
    "## Historical VaR:\n",
    "Given N past daily returns, the 5th percentile will simply be the daily VaR at 95% one tail. Need to rank the returns from best to worst. Then let's say we have N = 500, the 95th of that will be the 25th worse return, and the 99th will be the 5th worse day. "
   ]
  },
  {
   "cell_type": "code",
   "execution_count": 3,
   "id": "30839e4b-d9d2-4feb-8b9e-cf2567b33b07",
   "metadata": {},
   "outputs": [
    {
     "name": "stdout",
     "output_type": "stream",
     "text": [
      "Historical 1-day 95% VaR: 1.70%\n"
     ]
    }
   ],
   "source": [
    "confidence_level = 0.95\n",
    "percentile = (1 - confidence_level) * 100  # 5 for 95% VaR\n",
    "\n",
    "# historical VaR, and - for sign universality\n",
    "historical_VaR = -np.percentile(returns, percentile)\n",
    "print(f\"Historical 1-day {int(confidence_level*100)}% VaR: {historical_VaR*100:.2f}%\")"
   ]
  },
  {
   "cell_type": "code",
   "execution_count": 4,
   "id": "88769b42-c726-4116-8801-f88f125e9af9",
   "metadata": {},
   "outputs": [
    {
     "data": {
      "image/png": "[encoded data removed]",
      "text/plain": [
       "<Figure size 600x400 with 1 Axes>"
      ]
     },
     "metadata": {},
     "output_type": "display_data"
    }
   ],
   "source": [
    "plt.figure(figsize=(6,4))\n",
    "plt.hist(returns * 100, bins=50, color='skyblue', edgecolor='black')\n",
    "plt.axvline(x = returns.quantile(1 - confidence_level) * 100, color='red', linestyle='--', label=f'{int(confidence_level*100)}% VaR')\n",
    "plt.legend()\n",
    "plt.title('Distribution of Daily Returns with Historical VaR')\n",
    "plt.xlabel('Daily Return (%)')\n",
    "plt.ylabel('Frequency')\n",
    "plt.show()"
   ]
  },
  {
   "cell_type": "markdown",
   "id": "a6cf53c9-0ad3-495a-98b4-2e52ef5d8bee",
   "metadata": {},
   "source": [
    "## Parametric VaR:\n",
    "Assume normal distribution of returns, and then apply the same principles as the historical returns. Not realistic because returns have fat tails and don't closely follow normal curves. mu here is the average daily return for N days, and sigma is the standard deviation. "
   ]
  },
  {
   "cell_type": "code",
   "execution_count": 5,
   "id": "723eaa30-1c68-4bbc-be7f-768a5eb37c9e",
   "metadata": {},
   "outputs": [],
   "source": [
    "mu = returns.mean()\n",
    "sigma = returns.std()"
   ]
  },
  {
   "cell_type": "code",
   "execution_count": 6,
   "id": "4ee862d2-8b6c-4655-81ec-d0357dffa442",
   "metadata": {},
   "outputs": [
    {
     "name": "stdout",
     "output_type": "stream",
     "text": [
      "Parametric 1-day 95% VaR: 1.81%\n"
     ]
    }
   ],
   "source": [
    "# z for 95th percentile\n",
    "z_95 = norm.ppf(1 - confidence_level)  # negative value (~ -1.645 for 95%)\n",
    "\n",
    "# Parametric VaR = -(mu + z * sigma)\n",
    "parametric_VaR = -(mu + z_95 * sigma)\n",
    "print(f\"Parametric 1-day {int(confidence_level*100)}% VaR: {parametric_VaR*100:.2f}%\")"
   ]
  },
  {
   "cell_type": "markdown",
   "id": "f2b53e2e-6a5a-420f-bece-9099d6ee15ac",
   "metadata": {},
   "source": [
    "## Monte Carlo:\n",
    "Monte Carlo allows randomized simulations. But in our case we are assuming a normal distribution model underneath, so we should expect results similar to our Parametric VaR. "
   ]
  },
  {
   "cell_type": "code",
   "execution_count": 7,
   "id": "aecb28d6-812d-48fa-908a-b8159ac24ac9",
   "metadata": {},
   "outputs": [
    {
     "name": "stdout",
     "output_type": "stream",
     "text": [
      "Monte Carlo 1-day 95% VaR: 1.82%\n"
     ]
    }
   ],
   "source": [
    "# seed\n",
    "np.random.seed(42)\n",
    "\n",
    "# number of sims\n",
    "n_simulations = 10000\n",
    "\n",
    "# sim returns \n",
    "sim_returns = np.random.normal(mu, sigma, n_simulations)\n",
    "\n",
    "# 5th percentile of the simulated returns and report as positive loss\n",
    "monte_carlo_VaR = -np.percentile(sim_returns, percentile)\n",
    "print(f\"Monte Carlo 1-day {int(confidence_level*100)}% VaR: {monte_carlo_VaR*100:.2f}%\")"
   ]
  },
  {
   "cell_type": "code",
   "execution_count": 8,
   "id": "7185d23d-09fd-4f0a-9d2c-84aba569ac7d",
   "metadata": {},
   "outputs": [
    {
     "name": "stdout",
     "output_type": "stream",
     "text": [
      "Historical VaR: 1.70%\n",
      "Parametric VaR: 1.81%\n",
      "Monte Carlo VaR: 1.82%\n"
     ]
    }
   ],
   "source": [
    "print(f\"Historical VaR: {historical_VaR*100:.2f}%\")\n",
    "print(f\"Parametric VaR: {parametric_VaR*100:.2f}%\")\n",
    "print(f\"Monte Carlo VaR: {monte_carlo_VaR*100:.2f}%\")"
   ]
  },
  {
   "cell_type": "code",
   "execution_count": 10,
   "id": "73e5e567-d7e4-4c90-83f6-176fac31d22d",
   "metadata": {},
   "outputs": [
    {
     "data": {
      "image/png": "[encoded data removed]",
      "text/plain": [
       "<Figure size 800x500 with 1 Axes>"
      ]
     },
     "metadata": {},
     "output_type": "display_data"
    }
   ],
   "source": [
    "plt.figure(figsize=(8,5))\n",
    "plt.hist(sim_returns * 100, bins=50, color='lightgrey', edgecolor='black', alpha=0.7, label=\"Simulated Returns\")\n",
    "plt.axvline(x = np.percentile(sim_returns, percentile) * 100, color='blue', linestyle='--', label=\"Monte Carlo VaR\")\n",
    "plt.title('Monte Carlo Simulation of Daily Returns')\n",
    "plt.xlabel('Daily Return (%)')\n",
    "plt.ylabel('Frequency')\n",
    "plt.legend()\n",
    "plt.show()"
   ]
  }
 ],
 "metadata": {
  "kernelspec": {
   "display_name": "Python 3 (ipykernel)",
   "language": "python",
   "name": "python3"
  },
  "language_info": {
   "codemirror_mode": {
    "name": "ipython",
    "version": 3
   },
   "file_extension": ".py",
   "mimetype": "text/x-python",
   "name": "python",
   "nbconvert_exporter": "python",
   "pygments_lexer": "ipython3",
   "version": "3.13.1"
  }
 },
 "nbformat": 4,
 "nbformat_minor": 5
}
